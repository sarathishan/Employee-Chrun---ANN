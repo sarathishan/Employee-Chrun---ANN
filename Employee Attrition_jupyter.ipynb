{
 "cells": [
  {
   "cell_type": "markdown",
   "metadata": {},
   "source": [
    "#                                                                            Artificial Neural Network"
   ]
  },
  {
   "cell_type": "code",
   "execution_count": 16,
   "metadata": {},
   "outputs": [],
   "source": [
    "#1 Importing the libraries\n",
    "import numpy as np\n",
    "import pandas as pd\n",
    "import matplotlib.pyplot as plt"
   ]
  },
  {
   "cell_type": "code",
   "execution_count": 17,
   "metadata": {},
   "outputs": [],
   "source": [
    "#2 Importing the dataset\n",
    "HR_dataset = pd.read_excel(\"Dataset.xlsx\")"
   ]
  },
  {
   "cell_type": "code",
   "execution_count": 18,
   "metadata": {},
   "outputs": [],
   "source": [
    "#3 Encoding Target output from Binary to numbers\n",
    "\n",
    "#Yes - Employee quit the Org; No - Employee working in the Org\n",
    "from sklearn.preprocessing import LabelEncoder, OneHotEncoder\n",
    "labelencoder_y_1 = LabelEncoder() #encode categorical Y to numerical Y\n",
    "HR_dataset[\"Attrition\"] = labelencoder_y_1.fit_transform(HR_dataset[\"Attrition\"])"
   ]
  },
  {
   "cell_type": "code",
   "execution_count": 20,
   "metadata": {},
   "outputs": [
    {
     "name": "stdout",
     "output_type": "stream",
     "text": [
      "<class 'pandas.core.frame.DataFrame'>\n",
      "RangeIndex: 5513 entries, 0 to 5512\n",
      "Data columns (total 22 columns):\n",
      "Emp_Id                     5513 non-null object\n",
      "JobRole                    5513 non-null object\n",
      "Age                        5513 non-null float64\n",
      "BusinessTravel             5513 non-null object\n",
      "Department                 5513 non-null object\n",
      "DistanceFromHome(KM)       5513 non-null int64\n",
      "Degree Type                5513 non-null int64\n",
      "EducationField             5513 non-null object\n",
      "EnvironmentSatisfaction    5513 non-null int64\n",
      "Gender                     5513 non-null object\n",
      "MaritalStatus              5513 non-null object\n",
      "NumCompaniesWorked         5513 non-null int64\n",
      "PercentSalaryHike          5513 non-null int64\n",
      "PerformanceRating          5513 non-null int64\n",
      "TotalWorkingYears          5513 non-null int64\n",
      "YearsAtCompany_Vee         5513 non-null int64\n",
      "TrainingTimesLastYear      5513 non-null int64\n",
      "WorkLifeBalance            5513 non-null int64\n",
      "YearsInCurrentRole         5513 non-null int64\n",
      "YearsSinceLastPromotion    5513 non-null int64\n",
      "YearsWithCurrManager       5513 non-null int64\n",
      "Attrition                  5513 non-null int32\n",
      "dtypes: float64(1), int32(1), int64(13), object(7)\n",
      "memory usage: 926.1+ KB\n"
     ]
    }
   ],
   "source": [
    "# Dataset information: variable, count, DType\n",
    "HR_dataset.info()"
   ]
  },
  {
   "cell_type": "code",
   "execution_count": 21,
   "metadata": {},
   "outputs": [
    {
     "data": {
      "text/plain": [
       "121286"
      ]
     },
     "execution_count": 21,
     "metadata": {},
     "output_type": "execute_result"
    }
   ],
   "source": [
    "HR_dataset.size"
   ]
  },
  {
   "cell_type": "code",
   "execution_count": 22,
   "metadata": {},
   "outputs": [
    {
     "data": {
      "text/plain": [
       "Emp_Id            object\n",
       "JobRole           object\n",
       "BusinessTravel    object\n",
       "Department        object\n",
       "EducationField    object\n",
       "Gender            object\n",
       "MaritalStatus     object\n",
       "dtype: object"
      ]
     },
     "execution_count": 22,
     "metadata": {},
     "output_type": "execute_result"
    }
   ],
   "source": [
    "# Identifing Object Dtype in Dataset\n",
    "HR_dataset_object = HR_dataset.select_dtypes(include=['object'])\n",
    "HR_dataset_object.dtypes"
   ]
  },
  {
   "cell_type": "code",
   "execution_count": 23,
   "metadata": {},
   "outputs": [],
   "source": [
    "#4. Split the Dataset to X,y\n",
    "X = HR_dataset.iloc[:, 2:21]\n",
    "y = HR_dataset.iloc[:, 21]"
   ]
  },
  {
   "cell_type": "code",
   "execution_count": 24,
   "metadata": {},
   "outputs": [
    {
     "data": {
      "text/html": [
       "<div>\n",
       "<style scoped>\n",
       "    .dataframe tbody tr th:only-of-type {\n",
       "        vertical-align: middle;\n",
       "    }\n",
       "\n",
       "    .dataframe tbody tr th {\n",
       "        vertical-align: top;\n",
       "    }\n",
       "\n",
       "    .dataframe thead th {\n",
       "        text-align: right;\n",
       "    }\n",
       "</style>\n",
       "<table border=\"1\" class=\"dataframe\">\n",
       "  <thead>\n",
       "    <tr style=\"text-align: right;\">\n",
       "      <th></th>\n",
       "      <th>Age</th>\n",
       "      <th>BusinessTravel</th>\n",
       "      <th>Department</th>\n",
       "      <th>DistanceFromHome(KM)</th>\n",
       "      <th>Degree Type</th>\n",
       "      <th>EducationField</th>\n",
       "      <th>EnvironmentSatisfaction</th>\n",
       "      <th>Gender</th>\n",
       "      <th>MaritalStatus</th>\n",
       "      <th>NumCompaniesWorked</th>\n",
       "      <th>PercentSalaryHike</th>\n",
       "      <th>PerformanceRating</th>\n",
       "      <th>TotalWorkingYears</th>\n",
       "      <th>YearsAtCompany_Vee</th>\n",
       "      <th>TrainingTimesLastYear</th>\n",
       "      <th>WorkLifeBalance</th>\n",
       "      <th>YearsInCurrentRole</th>\n",
       "      <th>YearsSinceLastPromotion</th>\n",
       "      <th>YearsWithCurrManager</th>\n",
       "    </tr>\n",
       "  </thead>\n",
       "  <tbody>\n",
       "    <tr>\n",
       "      <th>0</th>\n",
       "      <td>28.000000</td>\n",
       "      <td>Travel_Rarely</td>\n",
       "      <td>Medical Coding</td>\n",
       "      <td>5</td>\n",
       "      <td>3</td>\n",
       "      <td>Computer Science</td>\n",
       "      <td>1</td>\n",
       "      <td>M</td>\n",
       "      <td>Married</td>\n",
       "      <td>7</td>\n",
       "      <td>8</td>\n",
       "      <td>2</td>\n",
       "      <td>12</td>\n",
       "      <td>1</td>\n",
       "      <td>2</td>\n",
       "      <td>1</td>\n",
       "      <td>1</td>\n",
       "      <td>4</td>\n",
       "      <td>6</td>\n",
       "    </tr>\n",
       "    <tr>\n",
       "      <th>1</th>\n",
       "      <td>28.065753</td>\n",
       "      <td>Travel_Rarely</td>\n",
       "      <td>Engineering Services</td>\n",
       "      <td>18</td>\n",
       "      <td>2</td>\n",
       "      <td>Engineering</td>\n",
       "      <td>1</td>\n",
       "      <td>M</td>\n",
       "      <td>Single</td>\n",
       "      <td>1</td>\n",
       "      <td>13</td>\n",
       "      <td>4</td>\n",
       "      <td>13</td>\n",
       "      <td>5</td>\n",
       "      <td>1</td>\n",
       "      <td>1</td>\n",
       "      <td>1</td>\n",
       "      <td>4</td>\n",
       "      <td>6</td>\n",
       "    </tr>\n",
       "    <tr>\n",
       "      <th>2</th>\n",
       "      <td>40.709589</td>\n",
       "      <td>Travel_Frequency</td>\n",
       "      <td>Medical Coding</td>\n",
       "      <td>2</td>\n",
       "      <td>2</td>\n",
       "      <td>Computer science</td>\n",
       "      <td>4</td>\n",
       "      <td>M</td>\n",
       "      <td>Married</td>\n",
       "      <td>5</td>\n",
       "      <td>13</td>\n",
       "      <td>3</td>\n",
       "      <td>15</td>\n",
       "      <td>4</td>\n",
       "      <td>5</td>\n",
       "      <td>3</td>\n",
       "      <td>2</td>\n",
       "      <td>5</td>\n",
       "      <td>2</td>\n",
       "    </tr>\n",
       "    <tr>\n",
       "      <th>3</th>\n",
       "      <td>24.317808</td>\n",
       "      <td>Travel_Rarely</td>\n",
       "      <td>Medical Coding</td>\n",
       "      <td>23</td>\n",
       "      <td>2</td>\n",
       "      <td>Pharma</td>\n",
       "      <td>5</td>\n",
       "      <td>F</td>\n",
       "      <td>Married</td>\n",
       "      <td>0</td>\n",
       "      <td>10</td>\n",
       "      <td>3</td>\n",
       "      <td>15</td>\n",
       "      <td>14</td>\n",
       "      <td>8</td>\n",
       "      <td>3</td>\n",
       "      <td>2</td>\n",
       "      <td>5</td>\n",
       "      <td>5</td>\n",
       "    </tr>\n",
       "    <tr>\n",
       "      <th>4</th>\n",
       "      <td>35.000000</td>\n",
       "      <td>Non-Travel</td>\n",
       "      <td>E Governance</td>\n",
       "      <td>20</td>\n",
       "      <td>3</td>\n",
       "      <td>Pharma</td>\n",
       "      <td>2</td>\n",
       "      <td>M</td>\n",
       "      <td>Married</td>\n",
       "      <td>4</td>\n",
       "      <td>29</td>\n",
       "      <td>5</td>\n",
       "      <td>13</td>\n",
       "      <td>7</td>\n",
       "      <td>1</td>\n",
       "      <td>5</td>\n",
       "      <td>1</td>\n",
       "      <td>2</td>\n",
       "      <td>2</td>\n",
       "    </tr>\n",
       "  </tbody>\n",
       "</table>\n",
       "</div>"
      ],
      "text/plain": [
       "         Age    BusinessTravel            Department  DistanceFromHome(KM)  \\\n",
       "0  28.000000     Travel_Rarely        Medical Coding                     5   \n",
       "1  28.065753     Travel_Rarely  Engineering Services                    18   \n",
       "2  40.709589  Travel_Frequency        Medical Coding                     2   \n",
       "3  24.317808     Travel_Rarely        Medical Coding                    23   \n",
       "4  35.000000        Non-Travel          E Governance                    20   \n",
       "\n",
       "   Degree Type    EducationField  EnvironmentSatisfaction Gender  \\\n",
       "0            3  Computer Science                        1      M   \n",
       "1            2       Engineering                        1      M   \n",
       "2            2  Computer science                        4      M   \n",
       "3            2            Pharma                        5      F   \n",
       "4            3            Pharma                        2      M   \n",
       "\n",
       "  MaritalStatus  NumCompaniesWorked  PercentSalaryHike  PerformanceRating  \\\n",
       "0       Married                   7                  8                  2   \n",
       "1        Single                   1                 13                  4   \n",
       "2       Married                   5                 13                  3   \n",
       "3       Married                   0                 10                  3   \n",
       "4       Married                   4                 29                  5   \n",
       "\n",
       "   TotalWorkingYears  YearsAtCompany_Vee  TrainingTimesLastYear  \\\n",
       "0                 12                   1                      2   \n",
       "1                 13                   5                      1   \n",
       "2                 15                   4                      5   \n",
       "3                 15                  14                      8   \n",
       "4                 13                   7                      1   \n",
       "\n",
       "   WorkLifeBalance  YearsInCurrentRole  YearsSinceLastPromotion  \\\n",
       "0                1                   1                        4   \n",
       "1                1                   1                        4   \n",
       "2                3                   2                        5   \n",
       "3                3                   2                        5   \n",
       "4                5                   1                        2   \n",
       "\n",
       "   YearsWithCurrManager  \n",
       "0                     6  \n",
       "1                     6  \n",
       "2                     2  \n",
       "3                     5  \n",
       "4                     2  "
      ]
     },
     "execution_count": 24,
     "metadata": {},
     "output_type": "execute_result"
    }
   ],
   "source": [
    "X.head()"
   ]
  },
  {
   "cell_type": "code",
   "execution_count": 25,
   "metadata": {},
   "outputs": [
    {
     "data": {
      "text/plain": [
       "0    1\n",
       "1    0\n",
       "2    0\n",
       "3    0\n",
       "4    1\n",
       "Name: Attrition, dtype: int32"
      ]
     },
     "execution_count": 25,
     "metadata": {},
     "output_type": "execute_result"
    }
   ],
   "source": [
    "y.head()"
   ]
  },
  {
   "cell_type": "code",
   "execution_count": 26,
   "metadata": {},
   "outputs": [],
   "source": [
    "#5 Encoding categorical data, we identified earlier\n",
    "columns = ['BusinessTravel','Department','EducationField','Gender','MaritalStatus']\n",
    "X = pd.get_dummies(X, columns=columns, drop_first=True)"
   ]
  },
  {
   "cell_type": "code",
   "execution_count": 27,
   "metadata": {},
   "outputs": [],
   "source": [
    "#6 Splitting the dataset into the Training set and Test set\n",
    "from sklearn.model_selection import train_test_split\n",
    "X_train, X_test, y_train, y_test = train_test_split(X, y, test_size = 0.25, random_state = 0)"
   ]
  },
  {
   "cell_type": "code",
   "execution_count": 29,
   "metadata": {},
   "outputs": [
    {
     "name": "stderr",
     "output_type": "stream",
     "text": [
      "C:\\Anaconda\\envs\\nlp_course\\lib\\site-packages\\sklearn\\preprocessing\\data.py:625: DataConversionWarning: Data with input dtype uint8, int64, float64 were all converted to float64 by StandardScaler.\n",
      "  return self.partial_fit(X, y)\n",
      "C:\\Anaconda\\envs\\nlp_course\\lib\\site-packages\\sklearn\\base.py:462: DataConversionWarning: Data with input dtype uint8, int64, float64 were all converted to float64 by StandardScaler.\n",
      "  return self.fit(X, **fit_params).transform(X)\n",
      "C:\\Anaconda\\envs\\nlp_course\\lib\\site-packages\\ipykernel_launcher.py:5: DataConversionWarning: Data with input dtype uint8, int64, float64 were all converted to float64 by StandardScaler.\n",
      "  \"\"\"\n"
     ]
    }
   ],
   "source": [
    "#6 Feature Scaling\n",
    "from sklearn.preprocessing import StandardScaler\n",
    "sc = StandardScaler()\n",
    "X_train = sc.fit_transform(X_train)\n",
    "X_test = sc.transform(X_test)"
   ]
  },
  {
   "cell_type": "markdown",
   "metadata": {},
   "source": [
    "#                                            let's make the Classification - ANN!"
   ]
  },
  {
   "cell_type": "code",
   "execution_count": 36,
   "metadata": {},
   "outputs": [
    {
     "name": "stderr",
     "output_type": "stream",
     "text": [
      "Using TensorFlow backend.\n"
     ]
    }
   ],
   "source": [
    "#1 Importing the Keras libraries and packages\n",
    "import keras\n",
    "from keras.models import Sequential\n",
    "from keras.layers import Dense"
   ]
  },
  {
   "cell_type": "code",
   "execution_count": 37,
   "metadata": {},
   "outputs": [],
   "source": [
    "#2 Initialising the ANN\n",
    "classifier = Sequential()"
   ]
  },
  {
   "cell_type": "code",
   "execution_count": 38,
   "metadata": {},
   "outputs": [
    {
     "name": "stdout",
     "output_type": "stream",
     "text": [
      "WARNING:tensorflow:From C:\\Anaconda\\envs\\nlp_course\\lib\\site-packages\\tensorflow\\python\\framework\\op_def_library.py:263: colocate_with (from tensorflow.python.framework.ops) is deprecated and will be removed in a future version.\n",
      "Instructions for updating:\n",
      "Colocations handled automatically by placer.\n"
     ]
    }
   ],
   "source": [
    "# Adding the I/P layer and the 1st hidden layer\n",
    "classifier.add(Dense(units = 19, kernel_initializer = 'uniform', activation = 'relu', input_dim = 38))\n",
    "\n",
    "# Adding the 2nd hidden layer\n",
    "classifier.add(Dense(units = 19, kernel_initializer = 'uniform', activation = 'relu'))\n",
    "\n",
    "# Adding the O/P layer\n",
    "classifier.add(Dense(units = 1, kernel_initializer = 'uniform', activation = 'sigmoid'))"
   ]
  },
  {
   "cell_type": "code",
   "execution_count": 39,
   "metadata": {},
   "outputs": [
    {
     "name": "stdout",
     "output_type": "stream",
     "text": [
      "WARNING:tensorflow:From C:\\Anaconda\\envs\\nlp_course\\lib\\site-packages\\tensorflow\\python\\ops\\math_ops.py:3066: to_int32 (from tensorflow.python.ops.math_ops) is deprecated and will be removed in a future version.\n",
      "Instructions for updating:\n",
      "Use tf.cast instead.\n",
      "Epoch 1/100\n",
      "5513/5513 [==============================] - 19s 4ms/step - loss: 0.3907 - acc: 0.8482\n",
      "Epoch 2/100\n",
      "5513/5513 [==============================] - ETA: 0s - loss: 0.2755 - acc: 0.882 - 3s 553us/step - loss: 0.2748 - acc: 0.8828\n",
      "Epoch 3/100\n",
      "5513/5513 [==============================] - 3s 611us/step - loss: 0.2519 - acc: 0.8923\n",
      "Epoch 4/100\n",
      "5513/5513 [==============================] - 4s 636us/step - loss: 0.2324 - acc: 0.9019\n",
      "Epoch 5/100\n",
      "5513/5513 [==============================] - 3s 557us/step - loss: 0.2157 - acc: 0.9089\n",
      "Epoch 6/100\n",
      "5513/5513 [==============================] - 3s 538us/step - loss: 0.2065 - acc: 0.9171\n",
      "Epoch 7/100\n",
      "5513/5513 [==============================] - 3s 526us/step - loss: 0.1948 - acc: 0.9206\n",
      "Epoch 8/100\n",
      "5513/5513 [==============================] - 3s 604us/step - loss: 0.1852 - acc: 0.9238\n",
      "Epoch 9/100\n",
      "5513/5513 [==============================] - 4s 642us/step - loss: 0.1744 - acc: 0.9264\n",
      "Epoch 10/100\n",
      "5513/5513 [==============================] - 3s 513us/step - loss: 0.1693 - acc: 0.9305\n",
      "Epoch 11/100\n",
      "5513/5513 [==============================] - 3s 503us/step - loss: 0.1610 - acc: 0.9349\n",
      "Epoch 12/100\n",
      "5513/5513 [==============================] - 3s 530us/step - loss: 0.1528 - acc: 0.9391\n",
      "Epoch 13/100\n",
      "5513/5513 [==============================] - 3s 573us/step - loss: 0.1455 - acc: 0.9436\n",
      "Epoch 14/100\n",
      "5513/5513 [==============================] - 4s 637us/step - loss: 0.1404 - acc: 0.9474\n",
      "Epoch 15/100\n",
      "5513/5513 [==============================] - 3s 556us/step - loss: 0.1390 - acc: 0.9459\n",
      "Epoch 16/100\n",
      "5513/5513 [==============================] - 3s 558us/step - loss: 0.1343 - acc: 0.9465\n",
      "Epoch 17/100\n",
      "5513/5513 [==============================] - 3s 542us/step - loss: 0.1285 - acc: 0.9490\n",
      "Epoch 18/100\n",
      "5513/5513 [==============================] - 3s 579us/step - loss: 0.1285 - acc: 0.9519\n",
      "Epoch 19/100\n",
      "5513/5513 [==============================] - 3s 615us/step - loss: 0.1248 - acc: 0.9514\n",
      "Epoch 20/100\n",
      "5513/5513 [==============================] - 3s 550us/step - loss: 0.1220 - acc: 0.9519\n",
      "Epoch 21/100\n",
      "5513/5513 [==============================] - 3s 551us/step - loss: 0.1190 - acc: 0.9539\n",
      "Epoch 22/100\n",
      "5513/5513 [==============================] - 3s 546us/step - loss: 0.1172 - acc: 0.9552\n",
      "Epoch 23/100\n",
      "5513/5513 [==============================] - 3s 576us/step - loss: 0.1144 - acc: 0.9579\n",
      "Epoch 24/100\n",
      "5513/5513 [==============================] - 3s 612us/step - loss: 0.1116 - acc: 0.9570\n",
      "Epoch 25/100\n",
      "5513/5513 [==============================] - 3s 576us/step - loss: 0.1109 - acc: 0.9581\n",
      "Epoch 26/100\n",
      "5513/5513 [==============================] - 3s 545us/step - loss: 0.1105 - acc: 0.9594\n",
      "Epoch 27/100\n",
      "5513/5513 [==============================] - 3s 529us/step - loss: 0.1079 - acc: 0.9576\n",
      "Epoch 28/100\n",
      "5513/5513 [==============================] - 3s 566us/step - loss: 0.1070 - acc: 0.9603\n",
      "Epoch 29/100\n",
      "5513/5513 [==============================] - 3s 616us/step - loss: 0.1052 - acc: 0.9619\n",
      "Epoch 30/100\n",
      "5513/5513 [==============================] - 3s 570us/step - loss: 0.1046 - acc: 0.9601\n",
      "Epoch 31/100\n",
      "5513/5513 [==============================] - 3s 552us/step - loss: 0.1034 - acc: 0.9615\n",
      "Epoch 32/100\n",
      "5513/5513 [==============================] - 3s 505us/step - loss: 0.1028 - acc: 0.9606\n",
      "Epoch 33/100\n",
      "5513/5513 [==============================] - 3s 600us/step - loss: 0.1009 - acc: 0.9628\n",
      "Epoch 34/100\n",
      "5513/5513 [==============================] - 4s 678us/step - loss: 0.1006 - acc: 0.9615\n",
      "Epoch 35/100\n",
      "5513/5513 [==============================] - 4s 655us/step - loss: 0.0984 - acc: 0.9614\n",
      "Epoch 36/100\n",
      "5513/5513 [==============================] - 3s 564us/step - loss: 0.0984 - acc: 0.9623\n",
      "Epoch 37/100\n",
      "5513/5513 [==============================] - 3s 574us/step - loss: 0.0955 - acc: 0.9654\n",
      "Epoch 38/100\n",
      "5513/5513 [==============================] - 3s 586us/step - loss: 0.0945 - acc: 0.9639\n",
      "Epoch 39/100\n",
      "5513/5513 [==============================] - 4s 659us/step - loss: 0.0970 - acc: 0.9648\n",
      "Epoch 40/100\n",
      "5513/5513 [==============================] - 3s 612us/step - loss: 0.0952 - acc: 0.9654\n",
      "Epoch 41/100\n",
      "5513/5513 [==============================] - 3s 490us/step - loss: 0.0917 - acc: 0.9670\n",
      "Epoch 42/100\n",
      "5513/5513 [==============================] - 3s 499us/step - loss: 0.0919 - acc: 0.9655\n",
      "Epoch 43/100\n",
      "5513/5513 [==============================] - 3s 501us/step - loss: 0.0916 - acc: 0.9637\n",
      "Epoch 44/100\n",
      "5513/5513 [==============================] - 3s 592us/step - loss: 0.0888 - acc: 0.9666\n",
      "Epoch 45/100\n",
      "5513/5513 [==============================] - 3s 600us/step - loss: 0.0870 - acc: 0.9668\n",
      "Epoch 46/100\n",
      "5513/5513 [==============================] - 3s 628us/step - loss: 0.0879 - acc: 0.9654\n",
      "Epoch 47/100\n",
      "5513/5513 [==============================] - 4s 648us/step - loss: 0.0874 - acc: 0.9690\n",
      "Epoch 48/100\n",
      "5513/5513 [==============================] - 5s 874us/step - loss: 0.0853 - acc: 0.9675\n",
      "Epoch 49/100\n",
      "5513/5513 [==============================] - 3s 585us/step - loss: 0.0872 - acc: 0.9657\n",
      "Epoch 50/100\n",
      "5513/5513 [==============================] - 3s 475us/step - loss: 0.0854 - acc: 0.9695\n",
      "Epoch 51/100\n",
      "5513/5513 [==============================] - 3s 484us/step - loss: 0.0823 - acc: 0.9684\n",
      "Epoch 52/100\n",
      "5513/5513 [==============================] - 3s 468us/step - loss: 0.0838 - acc: 0.9663\n",
      "Epoch 53/100\n",
      "5513/5513 [==============================] - 3s 505us/step - loss: 0.0820 - acc: 0.9693\n",
      "Epoch 54/100\n",
      "5513/5513 [==============================] - 3s 588us/step - loss: 0.0819 - acc: 0.9693\n",
      "Epoch 55/100\n",
      "5513/5513 [==============================] - 3s 503us/step - loss: 0.0806 - acc: 0.9699\n",
      "Epoch 56/100\n",
      "5513/5513 [==============================] - 3s 487us/step - loss: 0.0808 - acc: 0.9683\n",
      "Epoch 57/100\n",
      "5513/5513 [==============================] - 3s 466us/step - loss: 0.0809 - acc: 0.9673\n",
      "Epoch 58/100\n",
      "5513/5513 [==============================] - 3s 534us/step - loss: 0.0773 - acc: 0.9697\n",
      "Epoch 59/100\n",
      "5513/5513 [==============================] - 3s 596us/step - loss: 0.0756 - acc: 0.9728\n",
      "Epoch 60/100\n",
      "5513/5513 [==============================] - 3s 621us/step - loss: 0.0782 - acc: 0.9710\n",
      "Epoch 61/100\n",
      "5513/5513 [==============================] - 3s 488us/step - loss: 0.0771 - acc: 0.9704\n",
      "Epoch 62/100\n",
      "5513/5513 [==============================] - 3s 469us/step - loss: 0.0754 - acc: 0.9695\n",
      "Epoch 63/100\n",
      "5513/5513 [==============================] - 3s 485us/step - loss: 0.0726 - acc: 0.9732\n",
      "Epoch 64/100\n",
      "5513/5513 [==============================] - 3s 480us/step - loss: 0.0720 - acc: 0.9726\n",
      "Epoch 65/100\n",
      "5513/5513 [==============================] - 3s 567us/step - loss: 0.0769 - acc: 0.9710\n",
      "Epoch 66/100\n",
      "5513/5513 [==============================] - 3s 512us/step - loss: 0.0715 - acc: 0.9715\n",
      "Epoch 67/100\n",
      "5513/5513 [==============================] - 3s 482us/step - loss: 0.0735 - acc: 0.9721\n",
      "Epoch 68/100\n",
      "5513/5513 [==============================] - 3s 466us/step - loss: 0.0680 - acc: 0.9724\n",
      "Epoch 69/100\n",
      "5513/5513 [==============================] - 3s 510us/step - loss: 0.0712 - acc: 0.9728\n",
      "Epoch 70/100\n",
      "5513/5513 [==============================] - 3s 512us/step - loss: 0.0718 - acc: 0.9732\n",
      "Epoch 71/100\n",
      "5513/5513 [==============================] - 3s 537us/step - loss: 0.0692 - acc: 0.9744\n",
      "Epoch 72/100\n",
      "5513/5513 [==============================] - 3s 546us/step - loss: 0.0658 - acc: 0.9759\n",
      "Epoch 73/100\n",
      "5513/5513 [==============================] - 3s 463us/step - loss: 0.0689 - acc: 0.9751\n",
      "Epoch 74/100\n",
      "5513/5513 [==============================] - 3s 468us/step - loss: 0.0665 - acc: 0.9757\n",
      "Epoch 75/100\n",
      "5513/5513 [==============================] - 3s 533us/step - loss: 0.0666 - acc: 0.9744\n",
      "Epoch 76/100\n",
      "5513/5513 [==============================] - 3s 588us/step - loss: 0.0654 - acc: 0.9748\n",
      "Epoch 77/100\n",
      "5513/5513 [==============================] - 3s 545us/step - loss: 0.0660 - acc: 0.9746\n",
      "Epoch 78/100\n",
      "5513/5513 [==============================] - 3s 459us/step - loss: 0.0626 - acc: 0.9775\n",
      "Epoch 79/100\n",
      "5513/5513 [==============================] - 3s 462us/step - loss: 0.0643 - acc: 0.9781\n",
      "Epoch 80/100\n",
      "5513/5513 [==============================] - 3s 461us/step - loss: 0.0642 - acc: 0.9762\n",
      "Epoch 81/100\n",
      "5513/5513 [==============================] - 3s 466us/step - loss: 0.0631 - acc: 0.9775\n",
      "Epoch 82/100\n",
      "5513/5513 [==============================] - 3s 535us/step - loss: 0.0598 - acc: 0.9786\n",
      "Epoch 83/100\n",
      "5513/5513 [==============================] - 3s 509us/step - loss: 0.0585 - acc: 0.9804\n",
      "Epoch 84/100\n",
      "5513/5513 [==============================] - 3s 455us/step - loss: 0.0633 - acc: 0.9751\n",
      "Epoch 85/100\n",
      "5513/5513 [==============================] - 3s 478us/step - loss: 0.0599 - acc: 0.9781\n",
      "Epoch 86/100\n",
      "5513/5513 [==============================] - 2s 451us/step - loss: 0.0606 - acc: 0.9766\n",
      "Epoch 87/100\n",
      "5513/5513 [==============================] - 3s 467us/step - loss: 0.0599 - acc: 0.9777\n",
      "Epoch 88/100\n",
      "5513/5513 [==============================] - 3s 530us/step - loss: 0.0604 - acc: 0.9781\n",
      "Epoch 89/100\n",
      "5513/5513 [==============================] - 3s 506us/step - loss: 0.0572 - acc: 0.9788\n",
      "Epoch 90/100\n",
      "5513/5513 [==============================] - 3s 467us/step - loss: 0.0576 - acc: 0.9813\n",
      "Epoch 91/100\n",
      "5513/5513 [==============================] - 2s 453us/step - loss: 0.0609 - acc: 0.9766\n",
      "Epoch 92/100\n",
      "5513/5513 [==============================] - 3s 465us/step - loss: 0.0562 - acc: 0.9797\n",
      "Epoch 93/100\n",
      "5513/5513 [==============================] - 3s 455us/step - loss: 0.0555 - acc: 0.9804\n",
      "Epoch 94/100\n",
      "5513/5513 [==============================] - 3s 532us/step - loss: 0.0543 - acc: 0.9806\n",
      "Epoch 95/100\n",
      "5513/5513 [==============================] - 3s 517us/step - loss: 0.0559 - acc: 0.9788\n",
      "Epoch 96/100\n",
      "5513/5513 [==============================] - 3s 464us/step - loss: 0.0569 - acc: 0.9793\n",
      "Epoch 97/100\n",
      "5513/5513 [==============================] - 3s 472us/step - loss: 0.0542 - acc: 0.9799\n",
      "Epoch 98/100\n",
      "5513/5513 [==============================] - 3s 466us/step - loss: 0.0538 - acc: 0.9808\n",
      "Epoch 99/100\n",
      "5513/5513 [==============================] - 3s 481us/step - loss: 0.0543 - acc: 0.9813\n",
      "Epoch 100/100\n",
      "5513/5513 [==============================] - 3s 554us/step - loss: 0.0510 - acc: 0.9820\n"
     ]
    },
    {
     "data": {
      "text/plain": [
       "<keras.callbacks.History at 0x2bfc9f29348>"
      ]
     },
     "execution_count": 39,
     "metadata": {},
     "output_type": "execute_result"
    }
   ],
   "source": [
    "# Compiling the ANN\n",
    "classifier.compile(optimizer = 'adam', loss = 'binary_crossentropy', metrics = ['accuracy'])\n",
    "\n",
    "# Fitting the ANN to the Training set\n",
    "classifier.fit(X, y, batch_size = 10, epochs = 100)"
   ]
  },
  {
   "cell_type": "code",
   "execution_count": 41,
   "metadata": {},
   "outputs": [],
   "source": [
    "#3 Predicting the Test set results\n",
    "y_pred = classifier.predict(X_test)\n",
    "y_pred = (y_pred > 0.5)"
   ]
  },
  {
   "cell_type": "code",
   "execution_count": 45,
   "metadata": {},
   "outputs": [],
   "source": [
    "#4 Making the Confusion Matrix & importing library\n",
    "from sklearn.metrics import confusion_matrix\n",
    "from sklearn.metrics import accuracy_score"
   ]
  },
  {
   "cell_type": "code",
   "execution_count": 46,
   "metadata": {},
   "outputs": [
    {
     "name": "stdout",
     "output_type": "stream",
     "text": [
      "[[662  14]\n",
      " [  4 699]]\n",
      "0.9869470630891951\n"
     ]
    }
   ],
   "source": [
    "#5 Checking the performance of the model using confusion matrix\n",
    "cm = confusion_matrix(y_test, y_pred)\n",
    "print(cm)\n",
    "print(accuracy_score(y_test, y_pred))"
   ]
  },
  {
   "cell_type": "code",
   "execution_count": 47,
   "metadata": {},
   "outputs": [
    {
     "name": "stdout",
     "output_type": "stream",
     "text": [
      "Saved model to disk\n"
     ]
    }
   ],
   "source": [
    "#6 save model and architecture to single file\n",
    "classifier.save(\"model.h5\")\n",
    "print(\"Saved model to disk\")"
   ]
  }
 ],
 "metadata": {
  "kernelspec": {
   "display_name": "Python 3",
   "language": "python",
   "name": "python3"
  },
  "language_info": {
   "codemirror_mode": {
    "name": "ipython",
    "version": 3
   },
   "file_extension": ".py",
   "mimetype": "text/x-python",
   "name": "python",
   "nbconvert_exporter": "python",
   "pygments_lexer": "ipython3",
   "version": "3.7.5"
  }
 },
 "nbformat": 4,
 "nbformat_minor": 2
}
